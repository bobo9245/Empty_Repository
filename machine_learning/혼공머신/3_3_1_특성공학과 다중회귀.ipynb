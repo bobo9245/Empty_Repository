{
  "nbformat": 4,
  "nbformat_minor": 0,
  "metadata": {
    "colab": {
      "provenance": [],
      "authorship_tag": "ABX9TyOKXTLl747M6h08F8KPS4Yo",
      "include_colab_link": true
    },
    "kernelspec": {
      "name": "python3",
      "display_name": "Python 3"
    },
    "language_info": {
      "name": "python"
    }
  },
  "cells": [
    {
      "cell_type": "markdown",
      "metadata": {
        "id": "view-in-github",
        "colab_type": "text"
      },
      "source": [
        "<a href=\"https://colab.research.google.com/github/bobo9245/Empty_Repository/blob/master/machine_learning/%ED%98%BC%EA%B3%B5%EB%A8%B8%EC%8B%A0/3_3_1_%ED%8A%B9%EC%84%B1%EA%B3%B5%ED%95%99%EA%B3%BC%20%EB%8B%A4%EC%A4%91%ED%9A%8C%EA%B7%80.ipynb\" target=\"_parent\"><img src=\"https://colab.research.google.com/assets/colab-badge.svg\" alt=\"Open In Colab\"/></a>"
      ]
    },
    {
      "cell_type": "code",
      "execution_count": 1,
      "metadata": {
        "id": "hVO46Obx79KA"
      },
      "outputs": [],
      "source": [
        "import pandas as pd\n",
        "import numpy as np\n",
        "df = pd.read_csv('https://bit.ly/perch_csv_data')\n",
        "perch_full = df.to_numpy()\n",
        "perch_weight = perch_full[:,1]"
      ]
    },
    {
      "cell_type": "code",
      "source": [
        "from sklearn.model_selection import train_test_split\n",
        "train_input,test_input,train_target,test_target = train_test_split(perch_full,perch_weight,random_state=42)"
      ],
      "metadata": {
        "id": "09-4rXGXBuRy"
      },
      "execution_count": 2,
      "outputs": []
    },
    {
      "cell_type": "code",
      "source": [
        "from sklearn.preprocessing import PolynomialFeatures\n",
        "\n",
        "poly = PolynomialFeatures()\n",
        "#먼저 fit(훈련) 후 transform(변환) 해준다.\n",
        "poly.fit(train_input)\n",
        "train_poly = poly.transform(train_input)\n",
        "\n",
        "#뽑아낸 특성을 보여줌.\n",
        "poly.get_feature_names_out()"
      ],
      "metadata": {
        "id": "GRnbfCRpDyAy",
        "colab": {
          "base_uri": "https://localhost:8080/"
        },
        "outputId": "917f2c24-8fc8-46b2-fb31-43c9ef726f77"
      },
      "execution_count": 7,
      "outputs": [
        {
          "output_type": "execute_result",
          "data": {
            "text/plain": [
              "array(['1', 'x0', 'x1', 'x2', 'x0^2', 'x0 x1', 'x0 x2', 'x1^2', 'x1 x2',\n",
              "       'x2^2'], dtype=object)"
            ]
          },
          "metadata": {},
          "execution_count": 7
        }
      ]
    },
    {
      "cell_type": "code",
      "source": [
        "#train set 먼저 transform해준 후 test set transform 해준다.\n",
        "test_poly = poly.transform(test_input)"
      ],
      "metadata": {
        "id": "C3Px-IH8XDoH"
      },
      "execution_count": 8,
      "outputs": []
    },
    {
      "cell_type": "markdown",
      "source": [
        "PolynomialFeatures()\n",
        "\n",
        "*   매개변수 - degree : 몇차까지 계산할 건지(복잡도 설정)\n",
        "*   include_bias : 절편을 만들기 위한 항을 표시할 건지 말건지\n",
        "\n",
        "StandardScaler : 특성을 표준점수로 변환해 준다(이것도 변환기!)\n",
        "\n",
        "\n"
      ],
      "metadata": {
        "id": "JMm4EBDTVbQF"
      }
    },
    {
      "cell_type": "code",
      "source": [
        "from sklearn.preprocessing import StandardScaler\n",
        "ss = StandardScaler()\n",
        "ss.fit(train_poly)\n",
        "train_scaled = ss.transform(train_poly)\n",
        "test_scaled = ss.transform(test_poly)"
      ],
      "metadata": {
        "id": "QKJILWZMVqjr"
      },
      "execution_count": 6,
      "outputs": []
    }
  ]
}