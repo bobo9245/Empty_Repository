{
  "nbformat": 4,
  "nbformat_minor": 0,
  "metadata": {
    "colab": {
      "provenance": [],
      "authorship_tag": "ABX9TyOzusAU7+WrZZLEFv7nGYCa",
      "include_colab_link": true
    },
    "kernelspec": {
      "name": "python3",
      "display_name": "Python 3"
    },
    "language_info": {
      "name": "python"
    }
  },
  "cells": [
    {
      "cell_type": "markdown",
      "metadata": {
        "id": "view-in-github",
        "colab_type": "text"
      },
      "source": [
        "<a href=\"https://colab.research.google.com/github/bobo9245/Empty_Repository/blob/master/machine_learning/%ED%98%BC%EA%B3%B5%EB%A8%B8%EC%8B%A0/3_1_K_%EC%B5%9C%EA%B7%BC%EC%A0%91%EC%9D%B4%EC%9B%83_%ED%9A%8C%EA%B7%80.ipynb\" target=\"_parent\"><img src=\"https://colab.research.google.com/assets/colab-badge.svg\" alt=\"Open In Colab\"/></a>"
      ]
    },
    {
      "cell_type": "code",
      "execution_count": 101,
      "metadata": {
        "id": "qMvszBomeQFL"
      },
      "outputs": [],
      "source": [
        "#3-1장\n",
        "import numpy as np\n",
        "perch_length = np.array(\n",
        "    [8.4, 13.7, 15.0, 16.2, 17.4, 18.0, 18.7, 19.0, 19.6, 20.0, \n",
        "     21.0, 21.0, 21.0, 21.3, 22.0, 22.0, 22.0, 22.0, 22.0, 22.5, \n",
        "     22.5, 22.7, 23.0, 23.5, 24.0, 24.0, 24.6, 25.0, 25.6, 26.5, \n",
        "     27.3, 27.5, 27.5, 27.5, 28.0, 28.7, 30.0, 32.8, 34.5, 35.0, \n",
        "     36.5, 36.0, 37.0, 37.0, 39.0, 39.0, 39.0, 40.0, 40.0, 40.0, \n",
        "     40.0, 42.0, 43.0, 43.0, 43.5, 44.0]\n",
        "     )\n",
        "perch_weight = np.array(\n",
        "    [5.9, 32.0, 40.0, 51.5, 70.0, 100.0, 78.0, 80.0, 85.0, 85.0, \n",
        "     110.0, 115.0, 125.0, 130.0, 120.0, 120.0, 130.0, 135.0, 110.0, \n",
        "     130.0, 150.0, 145.0, 150.0, 170.0, 225.0, 145.0, 188.0, 180.0, \n",
        "     197.0, 218.0, 300.0, 260.0, 265.0, 250.0, 250.0, 300.0, 320.0, \n",
        "     514.0, 556.0, 840.0, 685.0, 700.0, 700.0, 690.0, 900.0, 650.0, \n",
        "     820.0, 850.0, 900.0, 1015.0, 820.0, 1100.0, 1000.0, 1100.0, \n",
        "     1000.0, 1000.0]\n",
        "     )"
      ]
    },
    {
      "cell_type": "code",
      "source": [
        "import matplotlib.pyplot as plt\n",
        "from sklearn.model_selection import train_test_split # data를 train set, test set으로 쪼개줌\n",
        "\n",
        "train_input,test_input,train_target,test_target = train_test_split(perch_length,perch_weight)\n"
      ],
      "metadata": {
        "id": "8NdHTKy9eWZP"
      },
      "execution_count": 102,
      "outputs": []
    },
    {
      "cell_type": "code",
      "source": [
        "#데이터를 세로 1줄로 만들어주는 중이다.reshape() 함수를 이용한다.\n",
        "train_input = train_input.reshape(-1,1)\n",
        "test_input = test_input.reshape(-1,1)"
      ],
      "metadata": {
        "id": "KPumLYzpeWnH"
      },
      "execution_count": 103,
      "outputs": []
    },
    {
      "cell_type": "code",
      "source": [
        "#결정계수 보기 \n",
        "from sklearn.neighbors import KNeighborsRegressor\n",
        "\n",
        "knr = KNeighborsRegressor()\n",
        "knr.fit(train_input,train_target)\n",
        "print(knr.score(test_input,test_target))"
      ],
      "metadata": {
        "colab": {
          "base_uri": "https://localhost:8080/"
        },
        "id": "3dhKbZCveWwH",
        "outputId": "d3f4bd36-4dcd-459e-d6dc-297bb8bef5a8"
      },
      "execution_count": 104,
      "outputs": [
        {
          "output_type": "stream",
          "name": "stdout",
          "text": [
            "0.9868858990378819\n"
          ]
        }
      ]
    },
    {
      "cell_type": "code",
      "source": [
        "from sklearn.metrics import mean_absolute_error \n",
        "test_prediction = knr.predict(test_input)\n",
        "mae = mean_absolute_error(test_target,test_prediction)\n",
        "print(mae)"
      ],
      "metadata": {
        "colab": {
          "base_uri": "https://localhost:8080/"
        },
        "id": "3UHbfgTFecZJ",
        "outputId": "9f2eb6a7-e4c9-4a97-daec-9685ded231d2"
      },
      "execution_count": 105,
      "outputs": [
        {
          "output_type": "stream",
          "name": "stdout",
          "text": [
            "22.05714285714286\n"
          ]
        }
      ]
    },
    {
      "cell_type": "code",
      "source": [
        "#과대적합 or 과소적합\n",
        "print('이웃 개수를 재선택하기 전의 test set 점수 :',knr.score(test_input,test_target))\n",
        "print('이웃 개수를 재선택하기 전의 train set 점수 :',knr.score(train_input,train_target))\n",
        "if knr.score(test_input,test_target)>knr.score(train_input,train_target):\n",
        "  print('과소적합입니다. 이웃 수를 줄여주세요 기본 값은 5입니다.')\n",
        "else:\n",
        "  print('과대적합입니다. 이웃 수를 늘려주세요.기본 값은 5입니다.')\n",
        "\n",
        "\n",
        "#이웃 개수 다시 설정\n",
        "knr.n_neighbors = 3\n",
        "print('이웃 수를 3으로 설정합니다.이웃 수를 낮췄습니다.')\n",
        "\n",
        "knr.fit(train_input,train_target)\n",
        "print('이웃 개수를 재선택한 후의 test set 점수 :',knr.score(test_input,test_target))\n",
        "print('이웃 개수를 재선택한 후의 train set 점수 :',knr.score(train_input,train_target))\n"
      ],
      "metadata": {
        "colab": {
          "base_uri": "https://localhost:8080/"
        },
        "id": "5SPuQf8Decbv",
        "outputId": "e9a3b418-b414-42f2-d9b3-ecde0374daed"
      },
      "execution_count": 106,
      "outputs": [
        {
          "output_type": "stream",
          "name": "stdout",
          "text": [
            "이웃 개수를 재선택하기 전의 test set 점수 : 0.9868858990378819\n",
            "이웃 개수를 재선택하기 전의 train set 점수 : 0.9744112002443811\n",
            "과소적합입니다. 이웃 수를 줄여주세요 기본 값은 5입니다.\n",
            "이웃 수를 3으로 설정합니다.이웃 수를 낮췄습니다.\n",
            "이웃 개수를 재선택한 후의 test set 점수 : 0.9831574914847085\n",
            "이웃 개수를 재선택한 후의 train set 점수 : 0.9769553451697438\n"
          ]
        }
      ]
    }
  ]
}